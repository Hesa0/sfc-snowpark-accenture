{
 "cells": [
  {
   "cell_type": "markdown",
   "metadata": {
    "collapsed": true
   },
   "source": [
    "# StyleMeUp - Fraud Detection in Online Retail"
   ]
  },
  {
   "cell_type": "markdown",
   "metadata": {},
   "source": [
    "### Problem Description:"
   ]
  },
  {
   "cell_type": "markdown",
   "metadata": {},
   "source": [
    "A global retailer 'StyleMeUp' has been experiencing transaction fraud. To reduce costs related to fraudulent transactions, StyleMeUp wants to implement a fraud detection solution that leverages machine learning.\n",
    "\n",
    "This demo shocases how Data Engineering and Data Science teams at StyleMeUp can use familiar programming concepts and APIs, and a rich ecosystem of open source packages provided by Snowpark for Python to collaborate and build this solution."
   ]
  },
  {
   "cell_type": "markdown",
   "metadata": {},
   "source": [
    "### Data Engineering Notebook"
   ]
  },
  {
   "cell_type": "markdown",
   "metadata": {},
   "source": [
    "As a data engineer we have been tasked to not only load the orders and details of customer transactions but also help data scientist to quickly identify if the transaction could be fraud. In order to do that we will analyze the origin ip address of the transaction and build features using a third party and second party data sets right from Snowflake marketplace and data exchange\n",
    "\n",
    "We will use the built in functions, Python Snowpark API and UDF's to create enriched data and features."
   ]
  },
  {
   "cell_type": "markdown",
   "metadata": {},
   "source": [
    "**Lets start by writing some helper functions that we will use later**\n",
    "\n",
    "we need helper fuctions to make our life easy in the data pipeline. It will help, when we join the orders data with IpInfo data for identifying features."
   ]
  },
  {
   "cell_type": "code",
   "execution_count": null,
   "metadata": {},
   "outputs": [],
   "source": [
    "def to_join_key_func(df, col):\n",
    "    return df.join_key\n",
    "\n",
    "def builtin(function_name):\n",
    "    import snowflake.snowpark.functions as sf\n",
    "    if function_name == 'to_join_key':\n",
    "        return to_join_key_func\n",
    "    return sf.builtin(function_name)"
   ]
  },
  {
   "cell_type": "code",
   "execution_count": null,
   "metadata": {},
   "outputs": [],
   "source": [
    "def enrich_with_geocoordinates(df):\n",
    "    \n",
    "    location_df = session.table('ipinfo.public.location')\n",
    "    orders_ip_location_df = df.join(location_df, to_join_key(df, 'ip_address') == location_df.join_key) \\\n",
    "        .where(parse_ip(df.ip_address, 'inet')['ipv4'].between(location_df.start_ip_int, location_df.end_ip_int)) \\\n",
    "        .select('trnx_id', 'ip_address', location_df.lat.alias('ip_order_loc_lat'), location_df.lng.alias('ip_order_loc_lng')) \\\n",
    "\n",
    "    orders_shipping_location_all_locations_df = df.join(location_df, to_join_key(df, 'ip_address') == location_df.join_key) \\\n",
    "        .filter(df.shipping_zipcode == location_df.postal)  \\\n",
    "        .select('trnx_id', 'ip_address', location_df.lat.alias('shipping_lat'), location_df.lng.alias('shipping_lng')) \\\n",
    "\n",
    "    orders_shipping_location_avg_lat_df = orders_shipping_location_all_locations_df \\\n",
    "        .groupBy(['trnx_id', 'ip_address']).agg(avg(col('shipping_lat')).alias('shipping_lat'))\n",
    "    \n",
    "    orders_shipping_location_avg_lng_df = orders_shipping_location_all_locations_df \\\n",
    "    .groupBy(['trnx_id', 'ip_address']).agg(avg(col('shipping_lng')).alias('shipping_lng'))\n",
    "\n",
    "    orders_shipping_location_df = orders_shipping_location_avg_lat_df \\\n",
    "        .join(orders_shipping_location_avg_lng_df, ['ip_address', 'trnx_id'])\n",
    "    \n",
    "    orders_location_df = df \\\n",
    "        .select('trnx_id', 'ip_address', 'shipping_zipcode' ) \\\n",
    "        .join(orders_ip_location_df, [ 'trnx_id', 'ip_address']) \\\n",
    "        .join(orders_shipping_location_df, [ 'trnx_id', 'ip_address'])\n",
    " \n",
    "    return orders_location_df"
   ]
  },
  {
   "cell_type": "markdown",
   "metadata": {},
   "source": [
    "## Loading Libreries"
   ]
  },
  {
   "cell_type": "code",
   "execution_count": null,
   "metadata": {},
   "outputs": [],
   "source": [
    "from snowflake.snowpark.session import Session\n",
    "from snowflake.snowpark.functions import udf, avg, col\n",
    "from snowflake.snowpark.types import IntegerType, FloatType, StringType, BooleanType\n",
    "import pandas as pd\n",
    "import sys\n",
    "sys.path.append('..')\n",
    "from utilities.creds import Credentials"
   ]
  },
  {
   "cell_type": "code",
   "execution_count": null,
   "metadata": {},
   "outputs": [],
   "source": [
    "from snowflake.snowpark import version\n",
    "print(version.VERSION)"
   ]
  },
  {
   "cell_type": "markdown",
   "metadata": {},
   "source": [
    "## Connect to Snowflake"
   ]
  },
  {
   "cell_type": "code",
   "execution_count": null,
   "metadata": {},
   "outputs": [],
   "source": [
    "session = Session.builder.configs(Credentials().__dict__).create()\n",
    "print(session.sql('USE WAREHOUSE LEARNINGSNOWPARKVW').collect())\n",
    "print(session.sql('USE DATABASE LEARNINGSNOWPARKDB').collect())\n",
    "print(session.sql('USE SCHEMA frauddemo').collect())\n",
    "print(session.sql('select current_warehouse(), current_database(), current_schema()').collect())"
   ]
  },
  {
   "cell_type": "code",
   "execution_count": null,
   "metadata": {},
   "outputs": [],
   "source": [
    "orders_df = session.table('orders')\n",
    "orders_df.limit(10).toPandas()"
   ]
  },
  {
   "cell_type": "code",
   "execution_count": null,
   "metadata": {},
   "outputs": [],
   "source": [
    "order_details_df = session.table('order_details')\n",
    "order_details_df.limit(10).toPandas()"
   ]
  },
  {
   "cell_type": "markdown",
   "metadata": {},
   "source": [
    "**Getting the average price per item**"
   ]
  },
  {
   "cell_type": "code",
   "execution_count": null,
   "metadata": {},
   "outputs": [],
   "source": [
    "avg_price_df = orders_df.join(order_details_df, 'trnx_id') \\\n",
    "                        .groupBy(orders_df.trnx_id) \\\n",
    "                        .agg(avg(order_details_df.price).alias('avg_price_per_item')) \n",
    "\n",
    "avg_price_df.limit(10).toPandas()"
   ]
  },
  {
   "attachments": {},
   "cell_type": "markdown",
   "metadata": {},
   "source": [
    "## Enrich data with IPInfo Privacy dataset to determine if IP is masked"
   ]
  },
  {
   "attachments": {},
   "cell_type": "markdown",
   "metadata": {},
   "source": [
    "## LET'S ADD SOME DATA FROM THE MARKET PLACE"
   ]
  },
  {
   "cell_type": "code",
   "execution_count": null,
   "metadata": {},
   "outputs": [],
   "source": [
    "privacy_df = session.table('ipinfo.public.privacy')\n",
    "parse_ip = builtin(\"parse_ip\")\n",
    "to_join_key = builtin(\"to_join_key\")\n",
    "\n",
    "orders_masked_df = orders_df \\\n",
    "    .join(privacy_df, to_join_key(orders_df, 'ip_address') == privacy_df.join_key) \\\n",
    "    .where(parse_ip(orders_df.ip_address, 'inet')['ipv4'].between(privacy_df.start_ip_int, privacy_df.end_ip_int)) \\\n",
    "    .select('trnx_id', 'ip_address', (privacy_df.proxy | privacy_df.tor | privacy_df.vpn).alias('is_masked'))  \n",
    " \n",
    "#orders_masked_df.schema   \n",
    "#orders_masked_df.collect()\n",
    "orders_masked_df.sample(n=10).toPandas()"
   ]
  },
  {
   "cell_type": "markdown",
   "metadata": {},
   "source": [
    "**Enrich data with IPInfo Location dataset to get geo-coordinates**"
   ]
  },
  {
   "cell_type": "code",
   "execution_count": null,
   "metadata": {},
   "outputs": [],
   "source": [
    "loc_df = enrich_with_geocoordinates(orders_df)\n",
    "loc_df.sample(n=10).toPandas()"
   ]
  },
  {
   "cell_type": "markdown",
   "metadata": {},
   "source": [
    "**Calculate distance between order IP and shipping locations using Snowflake's built in Geography functions**"
   ]
  },
  {
   "cell_type": "code",
   "execution_count": null,
   "metadata": {},
   "outputs": [],
   "source": [
    "%%time\n",
    "import snowflake.snowpark.functions as F\n",
    "\n",
    "session.sql(\"alter session set geography_output_format='WKT'\").collect()\n",
    "\n",
    "\n",
    "distance_df = loc_df.select(loc_df.trnx_id, loc_df.ip_address, loc_df.shipping_zipcode, \\\n",
    "                        F.call_builtin(\"st_makepoint\",loc_df.IP_ORDER_LOC_LNG,loc_df.IP_ORDER_LOC_LAT).alias('ipinfo_point') \\\n",
    "                       ,F.call_builtin(\"st_makepoint\",loc_df.SHIPPING_LNG,loc_df.SHIPPING_LAT).alias('shipping_point') \\\n",
    "                       ,F.call_builtin(\"st_distance\",col(\"ipinfo_point\"),col(\"shipping_point\")).alias(\"ip_to_shipping_distance\") \\\n",
    "                       ,(col(\"ip_to_shipping_distance\")/1609).alias(\"distance_in_miles\") )\n",
    "#distance_df.sample(n=10).toPandas()"
   ]
  },
  {
   "cell_type": "markdown",
   "metadata": {},
   "source": [
    "**Write enriched data back to a new Snowflake table**"
   ]
  },
  {
   "cell_type": "code",
   "execution_count": null,
   "metadata": {},
   "outputs": [],
   "source": [
    "%%time\n",
    "orders_merged_df = orders_df.join(orders_masked_df, ['trnx_id', 'ip_address'], 'left_outer') \\\n",
    "    .join(loc_df,['trnx_id', 'ip_address', 'shipping_zipcode'],  'left_outer') \\\n",
    "    .join(distance_df,['trnx_id', 'ip_address', 'shipping_zipcode'], 'left_outer') \\\n",
    "    .join(avg_price_df,'trnx_id', 'left_outer') \\\n",
    "    .write.mode('overwrite').saveAsTable('enriched_data')"
   ]
  },
  {
   "cell_type": "code",
   "execution_count": null,
   "metadata": {},
   "outputs": [],
   "source": [
    "enr_df = session.table('enriched_data').sample(n = 20000)\n",
    "enr_df.sample(n=10).toPandas()"
   ]
  },
  {
   "cell_type": "code",
   "execution_count": null,
   "metadata": {},
   "outputs": [],
   "source": [
    "enr_df.write.mode('overwrite').saveAsTable('new_transaction_data')"
   ]
  },
  {
   "cell_type": "markdown",
   "metadata": {},
   "source": [
    "## Closing Connection"
   ]
  },
  {
   "cell_type": "code",
   "execution_count": null,
   "metadata": {},
   "outputs": [],
   "source": [
    "session.close()"
   ]
  },
  {
   "cell_type": "code",
   "execution_count": null,
   "metadata": {},
   "outputs": [],
   "source": []
  }
 ],
 "metadata": {
  "kernelspec": {
   "display_name": "snowparkenv",
   "language": "python",
   "name": "python3"
  },
  "language_info": {
   "codemirror_mode": {
    "name": "ipython",
    "version": 3
   },
   "file_extension": ".py",
   "mimetype": "text/x-python",
   "name": "python",
   "nbconvert_exporter": "python",
   "pygments_lexer": "ipython3",
   "version": "3.8.5 (default, Sep  4 2020, 07:30:14) \n[GCC 7.3.0]"
  },
  "vscode": {
   "interpreter": {
    "hash": "24c4f4bd1ad4c4a65933c1dd4f0fe06a6b9fca4b9695c236df39490c76810698"
   }
  }
 },
 "nbformat": 4,
 "nbformat_minor": 1
}
