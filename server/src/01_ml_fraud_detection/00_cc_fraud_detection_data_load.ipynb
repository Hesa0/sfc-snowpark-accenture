{
 "cells": [
  {
   "cell_type": "markdown",
   "metadata": {},
   "source": [
    "# Loading Libreries"
   ]
  },
  {
   "cell_type": "code",
   "execution_count": null,
   "metadata": {},
   "outputs": [],
   "source": [
    "from snowflake.snowpark.session import Session\n",
    "from snowflake.snowpark.functions import udf, avg, col\n",
    "from snowflake.snowpark.types import IntegerType, FloatType, StringType, BooleanType\n",
    "import pandas as pd\n",
    "import sys\n",
    "sys.path.append('..')\n",
    "from utilities.creds import Credentials"
   ]
  },
  {
   "cell_type": "code",
   "execution_count": null,
   "metadata": {},
   "outputs": [],
   "source": [
    "from snowflake.snowpark import version\n",
    "print(version.VERSION)"
   ]
  },
  {
   "cell_type": "markdown",
   "metadata": {},
   "source": [
    "# Creating Session"
   ]
  },
  {
   "cell_type": "code",
   "execution_count": null,
   "metadata": {},
   "outputs": [],
   "source": [
    "session = Session.builder.configs(Credentials().__dict__).create()"
   ]
  },
  {
   "cell_type": "markdown",
   "metadata": {},
   "source": [
    "# Creating resources"
   ]
  },
  {
   "cell_type": "code",
   "execution_count": null,
   "metadata": {
    "scrolled": false
   },
   "outputs": [],
   "source": [
    "print(session.sql('USE DATABASE LEARNINGSNOWPARKDB').collect())\n",
    "print(session.sql('USE WAREHOUSE LEARNINGSNOWPARKVW').collect())\n",
    "print(session.sql('CREATE OR REPLACE SCHEMA FRAUDDEMO').collect())\n",
    "print(session.sql('USE SCHEMA FRAUDDEMO').collect())\n",
    "print(session.sql('DROP TABLE IF EXISTS ORDERS').collect())\n",
    "print(session.sql('DROP TABLE IF EXISTS ORDERS_DETAILS').collect())\n",
    "print(session.sql('DROP TABLE IF EXISTS ENRICHED_DATA').collect())\n",
    "print(session.sql('DROP TABLE IF EXISTS FRAUD_DETECTION').collect())\n",
    "print(session.sql('DROP TABLE IF EXISTS NEW_TRANSACTION_DATA').collect())\n",
    "print(session.sql('USE SCHEMA FRAUDDEMO').collect())\n",
    "print(session.sql('CREATE STAGE IF NOT EXISTS UDFSTAGE').collect())\n",
    "print(session.sql('SELECT CURRENT_WAREHOUSE(), CURRENT_DATABASE(), CURRENT_SCHEMA()').collect())"
   ]
  },
  {
   "cell_type": "markdown",
   "metadata": {},
   "source": [
    "## Loading local data"
   ]
  },
  {
   "cell_type": "code",
   "execution_count": null,
   "metadata": {},
   "outputs": [],
   "source": [
    "#Create an internal stage in your snowflake account-Db-Schema\n",
    "session.sql('CREATE STAGE if not exists fraud_data').collect()\n",
    "\n",
    "# Upload the source file to the stage\n",
    "putOrders = session.file.put(\"orders.csv.gz\", \"@fraud_data\", auto_compress=False, overwrite=True)\n",
    "putOrdDet = session.file.put(\"order_details.csv.gz\", \"@fraud_data\", auto_compress=False, overwrite=True)\n",
    "\n",
    "putOrders\n",
    "putOrdDet"
   ]
  },
  {
   "cell_type": "markdown",
   "metadata": {},
   "source": [
    "## Exploring Data"
   ]
  },
  {
   "cell_type": "code",
   "execution_count": null,
   "metadata": {},
   "outputs": [],
   "source": [
    "df = pd.read_csv('orders.csv.gz')\n",
    "df.head()\n",
    "df.dtypes"
   ]
  },
  {
   "cell_type": "code",
   "execution_count": null,
   "metadata": {},
   "outputs": [],
   "source": [
    "df = df.astype({\"JOIN_KEY\":str, \"SHIPPING_ZIPCODE\":str})\n",
    "df.dtypes"
   ]
  },
  {
   "cell_type": "markdown",
   "metadata": {},
   "source": [
    "## Creating table from local pandas DataFrame"
   ]
  },
  {
   "cell_type": "code",
   "execution_count": null,
   "metadata": {},
   "outputs": [],
   "source": [
    "%%time\n",
    "snowpark_df = session.write_pandas(df, 'ORDERS', auto_create_table=True)"
   ]
  },
  {
   "cell_type": "code",
   "execution_count": null,
   "metadata": {},
   "outputs": [],
   "source": [
    "#While you can use a pandas dataframe to create a table in snowflake. It is always a good practice to have a \n",
    "#defined schema\n",
    "\n",
    "# Define the schema for the Order_Details table\n",
    "from snowflake.snowpark.types import StructType, StructField\n",
    "\n",
    "dfOrdDetSchema = StructType(\n",
    "    [\n",
    "        StructField(\"TRNX_ID\", StringType()),\n",
    "        StructField(\"ITEM\", StringType()),\n",
    "        StructField(\"PRICE\", FloatType()),\n",
    "        StructField(\"QTY\", IntegerType())\n",
    "    ]\n",
    ")\n",
    "\n",
    "# Create a reader\n",
    "dfReader = session.read.schema(dfOrdDetSchema)\n",
    "# Create a df using the schema and data file\n",
    "dfOrdDet = dfReader.option(\"skip_header\", 1).csv(\"@fraud_data/order_details.csv.gz\")"
   ]
  },
  {
   "cell_type": "code",
   "execution_count": null,
   "metadata": {},
   "outputs": [],
   "source": [
    "%%time\n",
    "# Write the dataframe in a table, this is super quick because the files are already in snowflake stage\n",
    "dfOrdDet.write.mode(\"overwrite\").saveAsTable(\"ORDER_DETAILS\")"
   ]
  },
  {
   "cell_type": "markdown",
   "metadata": {},
   "source": [
    "## Closing Connection"
   ]
  },
  {
   "cell_type": "code",
   "execution_count": null,
   "metadata": {},
   "outputs": [],
   "source": [
    "session.close()"
   ]
  },
  {
   "cell_type": "code",
   "execution_count": null,
   "metadata": {},
   "outputs": [],
   "source": []
  }
 ],
 "metadata": {
  "kernelspec": {
   "display_name": "snowparkenv",
   "language": "python",
   "name": "python3"
  },
  "language_info": {
   "codemirror_mode": {
    "name": "ipython",
    "version": 3
   },
   "file_extension": ".py",
   "mimetype": "text/x-python",
   "name": "python",
   "nbconvert_exporter": "python",
   "pygments_lexer": "ipython3",
   "version": "3.8.5 (default, Sep  4 2020, 07:30:14) \n[GCC 7.3.0]"
  },
  "vscode": {
   "interpreter": {
    "hash": "24c4f4bd1ad4c4a65933c1dd4f0fe06a6b9fca4b9695c236df39490c76810698"
   }
  }
 },
 "nbformat": 4,
 "nbformat_minor": 1
}
